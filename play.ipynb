{
 "cells": [
  {
   "cell_type": "code",
   "execution_count": 1,
   "metadata": {},
   "outputs": [
    {
     "name": "stdout",
     "output_type": "stream",
     "text": [
      "torch.Size([10, 2, 1016])\n"
     ]
    }
   ],
   "source": [
    "%load_ext autoreload\n",
    "%autoreload 2\n",
    "import torch as th\n",
    "\n",
    "batch_size = 10\n",
    "layers = 2\n",
    "d_model = 108\n",
    "d_sae = 1016\n",
    "batch = th.randint(0, 100, (batch_size, layers, d_model))\n",
    "linear = th.randint(0, 100, (layers, d_model, d_sae))\n",
    "\n",
    "sae_activations = th.einsum(\"bld, ldD -> blD\", batch, linear)\n",
    "\n",
    "print(sae_activations.shape)"
   ]
  },
  {
   "cell_type": "code",
   "execution_count": 2,
   "metadata": {},
   "outputs": [],
   "source": [
    "assert sae_activations.shape == (batch_size, layers, d_sae)\n",
    "th.testing.assert_close(sae_activations[:, 0], batch[:, 0] @ linear[0])\n",
    "th.testing.assert_close(sae_activations[:, 1], batch[:, 1] @ linear[1])"
   ]
  },
  {
   "cell_type": "code",
   "execution_count": 3,
   "metadata": {},
   "outputs": [
    {
     "name": "stdout",
     "output_type": "stream",
     "text": [
      "torch.Size([10, 2, 108])\n"
     ]
    }
   ],
   "source": [
    "linear_decoder = th.randint(0, 100, (layers, d_sae, d_model))\n",
    "reconstructed = th.einsum(\"blD, lDd -> bld\", sae_activations, linear_decoder)\n",
    "\n",
    "print(reconstructed.shape)\n",
    "assert reconstructed.shape == (batch_size, layers, d_model)\n",
    "th.testing.assert_close(reconstructed[:, 0], sae_activations[:, 0] @ linear_decoder[0])\n",
    "th.testing.assert_close(reconstructed[:, 1], sae_activations[:, 1] @ linear_decoder[1])"
   ]
  },
  {
   "cell_type": "code",
   "execution_count": null,
   "metadata": {},
   "outputs": [],
   "source": []
  },
  {
   "cell_type": "markdown",
   "metadata": {},
   "source": [
    "## Test the CrossCoder"
   ]
  },
  {
   "cell_type": "code",
   "execution_count": 4,
   "metadata": {},
   "outputs": [],
   "source": [
    "import torch\n",
    "import pytest\n",
    "from tempfile import NamedTemporaryFile\n",
    "from dictionary import CrossCoder\n",
    "\n",
    "\n",
    "def test_crosscoder_save_load():\n",
    "    # Create a CrossCoder instance\n",
    "    activation_dim = 64\n",
    "    dict_size = 32\n",
    "    num_layers = 4\n",
    "    crosscoder = CrossCoder(activation_dim, dict_size, num_layers)\n",
    "\n",
    "    # Save the CrossCoder to a temporary file\n",
    "    with NamedTemporaryFile(suffix=\".pt\", delete=False) as tmp_file:\n",
    "        torch.save(crosscoder.state_dict(), tmp_file.name)\n",
    "        tmp_file_name = tmp_file.name\n",
    "\n",
    "    # Load the CrossCoder from the temporary file\n",
    "    loaded_crosscoder = CrossCoder.from_pretrained(tmp_file_name)\n",
    "\n",
    "    # Check if the loaded CrossCoder has the same parameters\n",
    "    for param1, param2 in zip(crosscoder.parameters(), loaded_crosscoder.parameters()):\n",
    "        assert torch.allclose(\n",
    "            param1, param2\n",
    "        ), \"Loaded CrossCoder parameters do not match the original\"\n",
    "\n",
    "\n",
    "def test_crosscoder_forward_pass(**kwargs):\n",
    "    # Create a CrossCoder instance\n",
    "    activation_dim = 64\n",
    "    dict_size = 32\n",
    "    num_layers = 4\n",
    "    crosscoder = CrossCoder(activation_dim, dict_size, num_layers, **kwargs)\n",
    "\n",
    "    # Create random input tensor\n",
    "    batch_size = 16\n",
    "    x = torch.randn(batch_size, num_layers, activation_dim)\n",
    "\n",
    "    # Perform forward pass without output_features\n",
    "    x_hat = crosscoder(x)\n",
    "    assert x_hat.shape == (\n",
    "        batch_size,\n",
    "        num_layers,\n",
    "        activation_dim,\n",
    "    ), \"Output shape mismatch\"\n",
    "\n",
    "    # Perform forward pass with output_features\n",
    "    x_hat, f_scaled = crosscoder(x, output_features=True)\n",
    "    assert x_hat.shape == (\n",
    "        batch_size,\n",
    "        num_layers,\n",
    "        activation_dim,\n",
    "    ), \"Output shape mismatch\"\n",
    "    assert f_scaled.shape == (batch_size, dict_size), \"Feature shape mismatch\"\n",
    "\n",
    "    # Check if the output is different from the input (i.e., some transformation occurred)\n",
    "    assert not torch.allclose(x, x_hat), \"Output is identical to input\""
   ]
  },
  {
   "cell_type": "code",
   "execution_count": 5,
   "metadata": {},
   "outputs": [],
   "source": [
    "test_crosscoder_forward_pass()\n",
    "test_crosscoder_save_load()"
   ]
  },
  {
   "cell_type": "code",
   "execution_count": 16,
   "metadata": {},
   "outputs": [],
   "source": [
    "test_crosscoder_forward_pass(same_init_for_all_layers=True)"
   ]
  },
  {
   "cell_type": "code",
   "execution_count": 17,
   "metadata": {},
   "outputs": [],
   "source": [
    "test_crosscoder_forward_pass(norm_init_scale=0.005)"
   ]
  },
  {
   "cell_type": "code",
   "execution_count": 18,
   "metadata": {},
   "outputs": [],
   "source": [
    "test_crosscoder_forward_pass(init_with_transpose=False)\n"
   ]
  },
  {
   "cell_type": "code",
   "execution_count": 6,
   "metadata": {},
   "outputs": [],
   "source": [
    "from dictionary import CrossCoderEncoder, CrossCoderDecoder, CrossCoder\n",
    "\n",
    "d_model = 108\n",
    "d_sae = 1016\n",
    "num_layers = 2\n",
    "encoder = CrossCoderEncoder(d_model, d_sae, num_layers)\n",
    "decoder = CrossCoderDecoder(d_model, d_sae, num_layers)\n",
    "\n",
    "batch = th.randn(batch_size, num_layers, d_model)"
   ]
  },
  {
   "cell_type": "code",
   "execution_count": 7,
   "metadata": {},
   "outputs": [],
   "source": [
    "f = encoder(batch)\n",
    "assert f.shape == (batch_size, d_sae)\n",
    "\n",
    "reconstructed = decoder(f)\n",
    "assert reconstructed.shape == (batch_size, num_layers, d_model)"
   ]
  },
  {
   "cell_type": "code",
   "execution_count": 8,
   "metadata": {},
   "outputs": [],
   "source": [
    "crosscoder = CrossCoder(d_model, d_sae, num_layers)\n",
    "reconstructed_cc = crosscoder(batch)\n",
    "assert reconstructed_cc.shape == (batch_size, num_layers, d_model)\n"
   ]
  },
  {
   "cell_type": "code",
   "execution_count": null,
   "metadata": {},
   "outputs": [],
   "source": []
  },
  {
   "cell_type": "code",
   "execution_count": 9,
   "metadata": {},
   "outputs": [
    {
     "name": "stdout",
     "output_type": "stream",
     "text": [
      "torch.Size([2, 1016, 108])\n",
      "torch.Size([2, 1016])\n",
      "torch.Size([1, 1016])\n",
      "torch.Size([10, 1016])\n"
     ]
    }
   ],
   "source": [
    "print(crosscoder.decoder.weight.shape)\n",
    "print(crosscoder.decoder.weight.norm(dim=2).shape)\n",
    "print(crosscoder.decoder.weight.norm(dim=2).sum(dim=0, keepdim=True).shape)\n",
    "print(f.shape)"
   ]
  },
  {
   "cell_type": "code",
   "execution_count": 10,
   "metadata": {},
   "outputs": [
    {
     "data": {
      "text/plain": [
       "torch.Size([10, 1016])"
      ]
     },
     "execution_count": 10,
     "metadata": {},
     "output_type": "execute_result"
    }
   ],
   "source": [
    "(f * crosscoder.decoder.weight.norm(dim=2).sum(dim=0, keepdim=True)).shape"
   ]
  },
  {
   "cell_type": "code",
   "execution_count": 11,
   "metadata": {},
   "outputs": [
    {
     "data": {
      "text/plain": [
       "torch.Size([10, 1016])"
      ]
     },
     "execution_count": 11,
     "metadata": {},
     "output_type": "execute_result"
    }
   ],
   "source": [
    "f.shape"
   ]
  },
  {
   "cell_type": "code",
   "execution_count": 12,
   "metadata": {},
   "outputs": [
    {
     "data": {
      "text/plain": [
       "torch.Size([2, 108, 1016])"
      ]
     },
     "execution_count": 12,
     "metadata": {},
     "output_type": "execute_result"
    }
   ],
   "source": [
    "weight = th.randn(d_model, d_sae)\n",
    "weight = weight.repeat(num_layers, 1, 1)\n",
    "weight.shape\n"
   ]
  },
  {
   "cell_type": "code",
   "execution_count": 13,
   "metadata": {},
   "outputs": [
    {
     "name": "stdout",
     "output_type": "stream",
     "text": [
      "tensor(0.)\n"
     ]
    }
   ],
   "source": [
    "weight[0, :, :] = 0\n",
    "print(weight[0, :, :].norm())\n",
    "assert weight[1, :, :].norm() != 0\n"
   ]
  },
  {
   "cell_type": "code",
   "execution_count": 14,
   "metadata": {},
   "outputs": [],
   "source": [
    "weight = weight / weight.norm(dim=1, keepdim=True)"
   ]
  },
  {
   "cell_type": "code",
   "execution_count": 15,
   "metadata": {},
   "outputs": [
    {
     "data": {
      "text/plain": [
       "tensor([[[   nan,    nan,    nan,  ...,    nan,    nan,    nan]],\n",
       "\n",
       "        [[1.0000, 1.0000, 1.0000,  ..., 1.0000, 1.0000, 1.0000]]])"
      ]
     },
     "execution_count": 15,
     "metadata": {},
     "output_type": "execute_result"
    }
   ],
   "source": [
    "weight.norm(dim=1, keepdim=True)"
   ]
  },
  {
   "cell_type": "code",
   "execution_count": null,
   "metadata": {},
   "outputs": [],
   "source": []
  }
 ],
 "metadata": {
  "kernelspec": {
   "display_name": "Python 3",
   "language": "python",
   "name": "python3"
  },
  "language_info": {
   "codemirror_mode": {
    "name": "ipython",
    "version": 3
   },
   "file_extension": ".py",
   "mimetype": "text/x-python",
   "name": "python",
   "nbconvert_exporter": "python",
   "pygments_lexer": "ipython3",
   "version": "3.12.4"
  }
 },
 "nbformat": 4,
 "nbformat_minor": 2
}
